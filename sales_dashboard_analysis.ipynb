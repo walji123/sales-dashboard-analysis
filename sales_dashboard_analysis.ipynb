{
  "nbformat": 4,
  "nbformat_minor": 0,
  "metadata": {
    "colab": {
      "provenance": [],
      "authorship_tag": "ABX9TyPM/fOSGIfiiHDft6O2mkDS",
      "include_colab_link": true
    },
    "kernelspec": {
      "name": "python3",
      "display_name": "Python 3"
    },
    "language_info": {
      "name": "python"
    }
  },
  "cells": [
    {
      "cell_type": "markdown",
      "metadata": {
        "id": "view-in-github",
        "colab_type": "text"
      },
      "source": [
        "<a href=\"https://colab.research.google.com/github/walji123/sales-dashboard-analysis/blob/main/sales_dashboard_analysis.ipynb\" target=\"_parent\"><img src=\"https://colab.research.google.com/assets/colab-badge.svg\" alt=\"Open In Colab\"/></a>"
      ]
    },
    {
      "cell_type": "code",
      "execution_count": null,
      "metadata": {
        "colab": {
          "base_uri": "https://localhost:8080/"
        },
        "id": "ijBJCIrHIKrR",
        "outputId": "9d4d8e24-c28d-4e06-cdd5-b36bd79fdc35"
      },
      "outputs": [
        {
          "output_type": "stream",
          "name": "stdout",
          "text": [
            "   sale_id branch         city customer_type  gender  product_name  \\\n",
            "0        1      A     New York        Member    Male       Shampoo   \n",
            "1        2      B  Los Angeles        Normal  Female      Notebook   \n",
            "2        3      A     New York        Member  Female         Apple   \n",
            "3        4      A      Chicago        Normal    Male     Detergent   \n",
            "4        5      B  Los Angeles        Member  Female  Orange Juice   \n",
            "\n",
            "  product_category  unit_price  quantity   tax  total_price  reward_points  \n",
            "0    Personal Care        5.50         3  1.16        17.66              1  \n",
            "1       Stationery        2.75        10  1.93        29.43              0  \n",
            "2           Fruits        1.20        15  1.26        19.26              1  \n",
            "3        Household        7.80         5  2.73        41.73              0  \n",
            "4        Beverages        3.50         7  1.72        26.22              2  \n",
            "<class 'pandas.core.frame.DataFrame'>\n",
            "RangeIndex: 1000 entries, 0 to 999\n",
            "Data columns (total 12 columns):\n",
            " #   Column            Non-Null Count  Dtype  \n",
            "---  ------            --------------  -----  \n",
            " 0   sale_id           1000 non-null   int64  \n",
            " 1   branch            1000 non-null   object \n",
            " 2   city              1000 non-null   object \n",
            " 3   customer_type     1000 non-null   object \n",
            " 4   gender            1000 non-null   object \n",
            " 5   product_name      1000 non-null   object \n",
            " 6   product_category  1000 non-null   object \n",
            " 7   unit_price        1000 non-null   float64\n",
            " 8   quantity          1000 non-null   int64  \n",
            " 9   tax               1000 non-null   float64\n",
            " 10  total_price       1000 non-null   float64\n",
            " 11  reward_points     1000 non-null   int64  \n",
            "dtypes: float64(3), int64(3), object(6)\n",
            "memory usage: 93.9+ KB\n",
            "None\n",
            "sale_id             0\n",
            "branch              0\n",
            "city                0\n",
            "customer_type       0\n",
            "gender              0\n",
            "product_name        0\n",
            "product_category    0\n",
            "unit_price          0\n",
            "quantity            0\n",
            "tax                 0\n",
            "total_price         0\n",
            "reward_points       0\n",
            "dtype: int64\n"
          ]
        }
      ],
      "source": [
        "import pandas as pd\n",
        "\n",
        "# 1. Mount Google Drive\n",
        "from google.colab import drive\n",
        "drive.mount('/content/drive')\n",
        "\n",
        "# 2. Load the CSV from Google Drive (update the path to match your actual file location)\n",
        "df = pd.read_csv('/content/drive/MyDrive/sales.csv')\n",
        "\n",
        "# 3. Preview the first 5 rows\n",
        "print(df.head())\n",
        "\n",
        "# 4. Basic info about the dataset\n",
        "print(df.info())\n",
        "\n",
        "# 5. Check for missing values\n",
        "print(df.isnull().sum())\n",
        "\n"
      ]
    },
    {
      "cell_type": "code",
      "source": [
        "from google.colab import drive\n",
        "drive.mount('/content/drive')"
      ],
      "metadata": {
        "colab": {
          "base_uri": "https://localhost:8080/"
        },
        "id": "-ADH9dQvPD4n",
        "outputId": "76ac5e92-a661-4154-ae98-d4beb92e9533"
      },
      "execution_count": null,
      "outputs": [
        {
          "output_type": "stream",
          "name": "stdout",
          "text": [
            "Mounted at /content/drive\n"
          ]
        }
      ]
    }
  ]
}